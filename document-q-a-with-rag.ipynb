{
 "cells": [
  {
   "cell_type": "code",
   "execution_count": 1,
   "id": "aa07ba17",
   "metadata": {
    "cellView": "form",
    "execution": {
     "iopub.execute_input": "2024-11-23T09:38:10.169570Z",
     "iopub.status.busy": "2024-11-23T09:38:10.169033Z",
     "iopub.status.idle": "2024-11-23T09:38:10.175490Z",
     "shell.execute_reply": "2024-11-23T09:38:10.174238Z"
    },
    "id": "tuOe1ymfHZPu",
    "papermill": {
     "duration": 0.016015,
     "end_time": "2024-11-23T09:38:10.178065",
     "exception": false,
     "start_time": "2024-11-23T09:38:10.162050",
     "status": "completed"
    },
    "tags": []
   },
   "outputs": [],
   "source": [
    "# @title Licensed under the Apache License, Version 2.0 (the \"License\");\n",
    "# you may not use this file except in compliance with the License.\n",
    "# You may obtain a copy of the License at\n",
    "#\n",
    "# https://www.apache.org/licenses/LICENSE-2.0\n",
    "#\n",
    "# Unless required by applicable law or agreed to in writing, software\n",
    "# distributed under the License is distributed on an \"AS IS\" BASIS,\n",
    "# WITHOUT WARRANTIES OR CONDITIONS OF ANY KIND, either express or implied.\n",
    "# See the License for the specific language governing permissions and\n",
    "# limitations under the License."
   ]
  },
  {
   "cell_type": "markdown",
   "id": "d3caf3ba",
   "metadata": {
    "id": "akuOzK4dJl3j",
    "papermill": {
     "duration": 0.004422,
     "end_time": "2024-11-23T09:38:10.187874",
     "exception": false,
     "start_time": "2024-11-23T09:38:10.183452",
     "status": "completed"
    },
    "tags": []
   },
   "source": [
    "## Setup\n",
    "\n",
    "First, install ChromaDB and the Gemini API Python SDK."
   ]
  },
  {
   "cell_type": "code",
   "execution_count": 2,
   "id": "cf17e476",
   "metadata": {
    "execution": {
     "iopub.execute_input": "2024-11-23T09:38:10.198673Z",
     "iopub.status.busy": "2024-11-23T09:38:10.198286Z",
     "iopub.status.idle": "2024-11-23T09:38:58.537896Z",
     "shell.execute_reply": "2024-11-23T09:38:58.536507Z"
    },
    "id": "JbXe7Oodc5dP",
    "papermill": {
     "duration": 48.347861,
     "end_time": "2024-11-23T09:38:58.540235",
     "exception": false,
     "start_time": "2024-11-23T09:38:10.192374",
     "status": "completed"
    },
    "tags": []
   },
   "outputs": [
    {
     "name": "stdout",
     "output_type": "stream",
     "text": [
      "\u001b[31mERROR: pip's dependency resolver does not currently take into account all the packages that are installed. This behaviour is the source of the following dependency conflicts.\r\n",
      "kfp 2.5.0 requires google-cloud-storage<3,>=2.2.1, but you have google-cloud-storage 1.44.0 which is incompatible.\r\n",
      "kfp 2.5.0 requires kubernetes<27,>=8.0.0, but you have kubernetes 31.0.0 which is incompatible.\u001b[0m\u001b[31m\r\n",
      "\u001b[0mNote: you may need to restart the kernel to use updated packages.\n"
     ]
    }
   ],
   "source": [
    "%pip install -U -q \"google-generativeai>=0.8.3\" chromadb"
   ]
  },
  {
   "cell_type": "code",
   "execution_count": 3,
   "id": "6e998cd6",
   "metadata": {
    "execution": {
     "iopub.execute_input": "2024-11-23T09:38:58.551584Z",
     "iopub.status.busy": "2024-11-23T09:38:58.551117Z",
     "iopub.status.idle": "2024-11-23T09:38:59.624598Z",
     "shell.execute_reply": "2024-11-23T09:38:59.623443Z"
    },
    "id": "muuhsDmmKdHi",
    "papermill": {
     "duration": 1.082435,
     "end_time": "2024-11-23T09:38:59.627362",
     "exception": false,
     "start_time": "2024-11-23T09:38:58.544927",
     "status": "completed"
    },
    "tags": []
   },
   "outputs": [],
   "source": [
    "import google.generativeai as genai\n",
    "from IPython.display import Markdown"
   ]
  },
  {
   "cell_type": "markdown",
   "id": "9ed33d88",
   "metadata": {
    "papermill": {
     "duration": 0.004375,
     "end_time": "2024-11-23T09:38:59.636605",
     "exception": false,
     "start_time": "2024-11-23T09:38:59.632230",
     "status": "completed"
    },
    "tags": []
   },
   "source": [
    "SETUP GOOGLE API KEY"
   ]
  },
  {
   "cell_type": "code",
   "execution_count": 4,
   "id": "f66a32aa",
   "metadata": {
    "execution": {
     "iopub.execute_input": "2024-11-23T09:38:59.648776Z",
     "iopub.status.busy": "2024-11-23T09:38:59.647925Z",
     "iopub.status.idle": "2024-11-23T09:38:59.843661Z",
     "shell.execute_reply": "2024-11-23T09:38:59.842463Z"
    },
    "id": "ysayz8skEfBW",
    "papermill": {
     "duration": 0.204438,
     "end_time": "2024-11-23T09:38:59.846541",
     "exception": false,
     "start_time": "2024-11-23T09:38:59.642103",
     "status": "completed"
    },
    "tags": []
   },
   "outputs": [],
   "source": [
    "from kaggle_secrets import UserSecretsClient\n",
    "\n",
    "GOOGLE_API_KEY = UserSecretsClient().get_secret(\"GOOGLE_API_KEY\")\n",
    "genai.configure(api_key=GOOGLE_API_KEY)"
   ]
  },
  {
   "cell_type": "markdown",
   "id": "13dfa898",
   "metadata": {
    "id": "fegnGFpMS4AI",
    "papermill": {
     "duration": 0.004518,
     "end_time": "2024-11-23T09:38:59.855923",
     "exception": false,
     "start_time": "2024-11-23T09:38:59.851405",
     "status": "completed"
    },
    "tags": []
   },
   "source": [
    "### Explore available models\n",
    "\n",
    "I will be using the [`embedContent`](https://ai.google.dev/api/embeddings#method:-models.embedcontent) API method to calculate embeddings in this guide. I will find a model that supports it through the [`models.list`](https://ai.google.dev/api/models#method:-models.list) endpoint. You can also find more information about the embedding models on [the models page](https://ai.google.dev/gemini-api/docs/models/gemini#text-embedding).\n",
    "\n",
    "`text-embedding-004` is the most recent embedding model."
   ]
  },
  {
   "cell_type": "code",
   "execution_count": 5,
   "id": "a9ddd923",
   "metadata": {
    "execution": {
     "iopub.execute_input": "2024-11-23T09:38:59.868425Z",
     "iopub.status.busy": "2024-11-23T09:38:59.867520Z",
     "iopub.status.idle": "2024-11-23T09:39:00.136057Z",
     "shell.execute_reply": "2024-11-23T09:39:00.134793Z"
    },
    "id": "Km5d13_FS2Q_",
    "papermill": {
     "duration": 0.277338,
     "end_time": "2024-11-23T09:39:00.138333",
     "exception": false,
     "start_time": "2024-11-23T09:38:59.860995",
     "status": "completed"
    },
    "tags": []
   },
   "outputs": [
    {
     "name": "stdout",
     "output_type": "stream",
     "text": [
      "models/embedding-001\n",
      "models/text-embedding-004\n"
     ]
    }
   ],
   "source": [
    "for m in genai.list_models():\n",
    "    if \"embedContent\" in m.supported_generation_methods:\n",
    "        print(m.name)"
   ]
  },
  {
   "cell_type": "markdown",
   "id": "85c1f17e",
   "metadata": {
    "id": "3XWKXoXwOGxS",
    "papermill": {
     "duration": 0.004712,
     "end_time": "2024-11-23T09:39:00.148349",
     "exception": false,
     "start_time": "2024-11-23T09:39:00.143637",
     "status": "completed"
    },
    "tags": []
   },
   "source": [
    "### Data\n",
    "\n",
    "I used the small set of documents below to create an embedding database."
   ]
  },
  {
   "cell_type": "code",
   "execution_count": 6,
   "id": "aeddf410",
   "metadata": {
    "execution": {
     "iopub.execute_input": "2024-11-23T09:39:00.159813Z",
     "iopub.status.busy": "2024-11-23T09:39:00.159422Z",
     "iopub.status.idle": "2024-11-23T09:39:00.166019Z",
     "shell.execute_reply": "2024-11-23T09:39:00.164553Z"
    },
    "id": "k8nsbhFJKmG-",
    "papermill": {
     "duration": 0.01541,
     "end_time": "2024-11-23T09:39:00.168540",
     "exception": false,
     "start_time": "2024-11-23T09:39:00.153130",
     "status": "completed"
    },
    "tags": []
   },
   "outputs": [],
   "source": [
    "DOCUMENT1 = \"Operating the Climate Control System  Your Googlecar has a climate control system that allows you to adjust the temperature and airflow in the car. To operate the climate control system, use the buttons and knobs located on the center console.  Temperature: The temperature knob controls the temperature inside the car. Turn the knob clockwise to increase the temperature or counterclockwise to decrease the temperature. Airflow: The airflow knob controls the amount of airflow inside the car. Turn the knob clockwise to increase the airflow or counterclockwise to decrease the airflow. Fan speed: The fan speed knob controls the speed of the fan. Turn the knob clockwise to increase the fan speed or counterclockwise to decrease the fan speed. Mode: The mode button allows you to select the desired mode. The available modes are: Auto: The car will automatically adjust the temperature and airflow to maintain a comfortable level. Cool: The car will blow cool air into the car. Heat: The car will blow warm air into the car. Defrost: The car will blow warm air onto the windshield to defrost it.\"\n",
    "DOCUMENT2 = 'Your Googlecar has a large touchscreen display that provides access to a variety of features, including navigation, entertainment, and climate control. To use the touchscreen display, simply touch the desired icon.  For example, you can touch the \"Navigation\" icon to get directions to your destination or touch the \"Music\" icon to play your favorite songs.'\n",
    "DOCUMENT3 = \"Shifting Gears Your Googlecar has an automatic transmission. To shift gears, simply move the shift lever to the desired position.  Park: This position is used when you are parked. The wheels are locked and the car cannot move. Reverse: This position is used to back up. Neutral: This position is used when you are stopped at a light or in traffic. The car is not in gear and will not move unless you press the gas pedal. Drive: This position is used to drive forward. Low: This position is used for driving in snow or other slippery conditions.\"\n",
    "\n",
    "documents = [DOCUMENT1, DOCUMENT2, DOCUMENT3]"
   ]
  },
  {
   "cell_type": "markdown",
   "id": "5d64e4cd",
   "metadata": {
    "id": "yDzxArLeOexD",
    "papermill": {
     "duration": 0.004419,
     "end_time": "2024-11-23T09:39:00.177964",
     "exception": false,
     "start_time": "2024-11-23T09:39:00.173545",
     "status": "completed"
    },
    "tags": []
   },
   "source": [
    "## Creating the embedding database with ChromaDB\n",
    "\n",
    "Create a [custom function](https://docs.trychroma.com/guides/embeddings#custom-embedding-functions) to generate embeddings with the Gemini API. In this task, you are implementing a retrieval system, so the `task_type` for generating the *document* embeddings is `retrieval_document`. Later, you will use `retrieval_query` for the *query* embeddings. Check out the [API reference](https://ai.google.dev/api/embeddings#v1beta.TaskType) for the full list of supported tasks.\n"
   ]
  },
  {
   "cell_type": "code",
   "execution_count": 7,
   "id": "ef3054c6",
   "metadata": {
    "execution": {
     "iopub.execute_input": "2024-11-23T09:39:00.190068Z",
     "iopub.status.busy": "2024-11-23T09:39:00.189676Z",
     "iopub.status.idle": "2024-11-23T09:39:01.308869Z",
     "shell.execute_reply": "2024-11-23T09:39:01.307562Z"
    },
    "id": "mF7Uu1kCQsT0",
    "papermill": {
     "duration": 1.128107,
     "end_time": "2024-11-23T09:39:01.311496",
     "exception": false,
     "start_time": "2024-11-23T09:39:00.183389",
     "status": "completed"
    },
    "tags": []
   },
   "outputs": [],
   "source": [
    "from chromadb import Documents, EmbeddingFunction, Embeddings\n",
    "from google.api_core import retry\n",
    "\n",
    "\n",
    "class GeminiEmbeddingFunction(EmbeddingFunction):\n",
    "    # Specify whether to generate embeddings for documents, or queries\n",
    "    document_mode = True\n",
    "\n",
    "    def __call__(self, input: Documents) -> Embeddings:\n",
    "        if self.document_mode:\n",
    "            embedding_task = \"retrieval_document\"\n",
    "        else:\n",
    "            embedding_task = \"retrieval_query\"\n",
    "\n",
    "        retry_policy = {\"retry\": retry.Retry(predicate=retry.if_transient_error)}\n",
    "\n",
    "        response = genai.embed_content(\n",
    "            model=\"models/text-embedding-004\",\n",
    "            content=input,\n",
    "            task_type=embedding_task,\n",
    "            request_options=retry_policy,\n",
    "        )\n",
    "        return response[\"embedding\"]"
   ]
  },
  {
   "cell_type": "markdown",
   "id": "129dca6e",
   "metadata": {
    "id": "HrDWLyopPNBf",
    "papermill": {
     "duration": 0.004511,
     "end_time": "2024-11-23T09:39:01.320937",
     "exception": false,
     "start_time": "2024-11-23T09:39:01.316426",
     "status": "completed"
    },
    "tags": []
   },
   "source": [
    "Now create a [Chroma database client](https://docs.trychroma.com/getting-started) that uses the `GeminiEmbeddingFunction` and populate the database with the documents you defined above."
   ]
  },
  {
   "cell_type": "code",
   "execution_count": 8,
   "id": "ee7dd526",
   "metadata": {
    "execution": {
     "iopub.execute_input": "2024-11-23T09:39:01.332463Z",
     "iopub.status.busy": "2024-11-23T09:39:01.332049Z",
     "iopub.status.idle": "2024-11-23T09:39:03.246665Z",
     "shell.execute_reply": "2024-11-23T09:39:03.245451Z"
    },
    "id": "OITXgxZlLoXU",
    "papermill": {
     "duration": 1.923532,
     "end_time": "2024-11-23T09:39:03.249377",
     "exception": false,
     "start_time": "2024-11-23T09:39:01.325845",
     "status": "completed"
    },
    "tags": []
   },
   "outputs": [],
   "source": [
    "import chromadb\n",
    "\n",
    "DB_NAME = \"googlecardb\"\n",
    "embed_fn = GeminiEmbeddingFunction()\n",
    "embed_fn.document_mode = True\n",
    "\n",
    "chroma_client = chromadb.Client()\n",
    "db = chroma_client.get_or_create_collection(name=DB_NAME, embedding_function=embed_fn)\n",
    "\n",
    "db.add(documents=documents, ids=[str(i) for i in range(len(documents))])"
   ]
  },
  {
   "cell_type": "markdown",
   "id": "8e1bdbd2",
   "metadata": {
    "id": "2QbwFgfXp-fL",
    "papermill": {
     "duration": 0.005199,
     "end_time": "2024-11-23T09:39:03.259822",
     "exception": false,
     "start_time": "2024-11-23T09:39:03.254623",
     "status": "completed"
    },
    "tags": []
   },
   "source": [
    "Confirm that the data was inserted by looking at the database."
   ]
  },
  {
   "cell_type": "code",
   "execution_count": 9,
   "id": "fcdc0be6",
   "metadata": {
    "execution": {
     "iopub.execute_input": "2024-11-23T09:39:03.272062Z",
     "iopub.status.busy": "2024-11-23T09:39:03.271618Z",
     "iopub.status.idle": "2024-11-23T09:39:03.281588Z",
     "shell.execute_reply": "2024-11-23T09:39:03.280460Z"
    },
    "id": "kQ9PHUL_l-hf",
    "papermill": {
     "duration": 0.018593,
     "end_time": "2024-11-23T09:39:03.284040",
     "exception": false,
     "start_time": "2024-11-23T09:39:03.265447",
     "status": "completed"
    },
    "tags": []
   },
   "outputs": [
    {
     "data": {
      "text/plain": [
       "3"
      ]
     },
     "execution_count": 9,
     "metadata": {},
     "output_type": "execute_result"
    }
   ],
   "source": [
    "db.count()\n",
    "# You can peek at the data too.\n",
    "#db.peek(1)"
   ]
  },
  {
   "cell_type": "markdown",
   "id": "684ca2a9",
   "metadata": {
    "id": "Tu5zRErgsQ8u",
    "papermill": {
     "duration": 0.004843,
     "end_time": "2024-11-23T09:39:03.293874",
     "exception": false,
     "start_time": "2024-11-23T09:39:03.289031",
     "status": "completed"
    },
    "tags": []
   },
   "source": [
    "## Retrieval: Find relevant documents\n",
    "\n",
    "To search the Chroma database, call the `query` method. Note that you also switch to the `retrieval_query` mode of embedding generation.\n"
   ]
  },
  {
   "cell_type": "code",
   "execution_count": 10,
   "id": "983eee10",
   "metadata": {
    "execution": {
     "iopub.execute_input": "2024-11-23T09:39:03.306064Z",
     "iopub.status.busy": "2024-11-23T09:39:03.304890Z",
     "iopub.status.idle": "2024-11-23T09:39:04.720985Z",
     "shell.execute_reply": "2024-11-23T09:39:04.719868Z"
    },
    "id": "gQdJMbTSLtKE",
    "papermill": {
     "duration": 1.424793,
     "end_time": "2024-11-23T09:39:04.723459",
     "exception": false,
     "start_time": "2024-11-23T09:39:03.298666",
     "status": "completed"
    },
    "tags": []
   },
   "outputs": [
    {
     "data": {
      "text/markdown": [
       "Your Googlecar has a large touchscreen display that provides access to a variety of features, including navigation, entertainment, and climate control. To use the touchscreen display, simply touch the desired icon.  For example, you can touch the \"Navigation\" icon to get directions to your destination or touch the \"Music\" icon to play your favorite songs."
      ],
      "text/plain": [
       "<IPython.core.display.Markdown object>"
      ]
     },
     "execution_count": 10,
     "metadata": {},
     "output_type": "execute_result"
    }
   ],
   "source": [
    "# Switch to query mode when generating embeddings.\n",
    "embed_fn.document_mode = False\n",
    "\n",
    "# Search the Chroma DB using the specified query.\n",
    "query = \"How do you use the touchscreen to play music?\"\n",
    "\n",
    "result = db.query(query_texts=[query], n_results=1)\n",
    "[[passage]] = result[\"documents\"]\n",
    "\n",
    "Markdown(passage)"
   ]
  },
  {
   "cell_type": "markdown",
   "id": "c12256a5",
   "metadata": {
    "id": "s8PNRMpOQkm5",
    "papermill": {
     "duration": 0.00469,
     "end_time": "2024-11-23T09:39:04.733414",
     "exception": false,
     "start_time": "2024-11-23T09:39:04.728724",
     "status": "completed"
    },
    "tags": []
   },
   "source": [
    "## Augmented generation: Answer the question\n",
    "\n",
    "Now that you have found a relevant passage from the set of documents (the *retrieval* step), you can now assemble a generation prompt to have the Gemini API *generate* a final answer. Note that in this example only a single passage was retrieved. In practice, especially when the size of your underlying data is large, you will want to retrieve more than one result and let the Gemini model determine what passages are relevant in answering the question. For this reason it's OK if some retrieved passages are not directly related to the question - this generation step should ignore them."
   ]
  },
  {
   "cell_type": "code",
   "execution_count": 11,
   "id": "8b942bd8",
   "metadata": {
    "execution": {
     "iopub.execute_input": "2024-11-23T09:39:04.745158Z",
     "iopub.status.busy": "2024-11-23T09:39:04.744753Z",
     "iopub.status.idle": "2024-11-23T09:39:04.751634Z",
     "shell.execute_reply": "2024-11-23T09:39:04.750408Z"
    },
    "id": "b6_Y-GOymaXu",
    "papermill": {
     "duration": 0.015575,
     "end_time": "2024-11-23T09:39:04.754018",
     "exception": false,
     "start_time": "2024-11-23T09:39:04.738443",
     "status": "completed"
    },
    "tags": []
   },
   "outputs": [
    {
     "name": "stdout",
     "output_type": "stream",
     "text": [
      "You are a helpful and informative bot that answers questions using text from the reference passage included below. \n",
      "Be sure to respond in a complete sentence, being comprehensive, including all relevant background information. \n",
      "However, you are talking to a non-technical audience, so be sure to break down complicated concepts and \n",
      "strike a friendly and converstional tone. If the passage is irrelevant to the answer, you may ignore it.\n",
      "\n",
      "QUESTION: How do you use the touchscreen to play music?\n",
      "PASSAGE: Your Googlecar has a large touchscreen display that provides access to a variety of features, including navigation, entertainment, and climate control. To use the touchscreen display, simply touch the desired icon.  For example, you can touch the \"Navigation\" icon to get directions to your destination or touch the \"Music\" icon to play your favorite songs.\n",
      "\n"
     ]
    }
   ],
   "source": [
    "passage_oneline = passage.replace(\"\\n\", \" \")\n",
    "\n",
    "query_oneline = query.replace(\"\\n\", \" \")\n",
    "\n",
    "# This prompt is where you can specify any guidance on tone, or what topics the model should stick to, or avoid.\n",
    "prompt = f\"\"\"You are a helpful and informative bot that answers questions using text from the reference passage included below. \n",
    "Be sure to respond in a complete sentence, being comprehensive, including all relevant background information. \n",
    "However, you are talking to a non-technical audience, so be sure to break down complicated concepts and \n",
    "strike a friendly and converstional tone. If the passage is irrelevant to the answer, you may ignore it.\n",
    "\n",
    "QUESTION: {query_oneline}\n",
    "PASSAGE: {passage_oneline}\n",
    "\"\"\"\n",
    "print(prompt)"
   ]
  },
  {
   "cell_type": "markdown",
   "id": "7c52dcaf",
   "metadata": {
    "id": "VRy6yXzcPxLB",
    "papermill": {
     "duration": 0.004899,
     "end_time": "2024-11-23T09:39:04.764045",
     "exception": false,
     "start_time": "2024-11-23T09:39:04.759146",
     "status": "completed"
    },
    "tags": []
   },
   "source": [
    "Now use the `generate_content` method to to generate an answer to the question."
   ]
  },
  {
   "cell_type": "code",
   "execution_count": 12,
   "id": "139e63cd",
   "metadata": {
    "execution": {
     "iopub.execute_input": "2024-11-23T09:39:04.775877Z",
     "iopub.status.busy": "2024-11-23T09:39:04.775367Z",
     "iopub.status.idle": "2024-11-23T09:39:07.305652Z",
     "shell.execute_reply": "2024-11-23T09:39:07.304525Z"
    },
    "id": "EwfyxFM6Giy9",
    "papermill": {
     "duration": 2.538983,
     "end_time": "2024-11-23T09:39:07.308023",
     "exception": false,
     "start_time": "2024-11-23T09:39:04.769040",
     "status": "completed"
    },
    "tags": []
   },
   "outputs": [
    {
     "data": {
      "text/markdown": [
       "To play music on your Googlecar's touchscreen, simply touch the \"Music\" icon; it's that easy!  The touchscreen is the large display that controls many features of your car, including navigation and climate control, and you select options just by tapping them.\n"
      ],
      "text/plain": [
       "<IPython.core.display.Markdown object>"
      ]
     },
     "execution_count": 12,
     "metadata": {},
     "output_type": "execute_result"
    }
   ],
   "source": [
    "model = genai.GenerativeModel(\"gemini-1.5-flash-latest\")\n",
    "answer = model.generate_content(prompt)\n",
    "Markdown(answer.text)"
   ]
  },
  {
   "cell_type": "markdown",
   "id": "401657d2",
   "metadata": {
    "id": "ThTbjAJ7eGP5",
    "papermill": {
     "duration": 0.005179,
     "end_time": "2024-11-23T09:39:07.318574",
     "exception": false,
     "start_time": "2024-11-23T09:39:07.313395",
     "status": "completed"
    },
    "tags": []
   },
   "source": [
    "## Next steps\n",
    "\n",
    "Congrats on building a Retrieval-Augmented Generation app!\n",
    "\n",
    "To learn more about using embeddings in the Gemini API, check out the [Intro to embeddings](https://ai.google.dev/gemini-api/docs/embeddings) or to learn more fundamentals, study the [embeddings chapter](https://developers.google.com/machine-learning/crash-course/embeddings) of the Machine Learning Crash Course.\n",
    "\n",
    "For a hosted RAG system, check out the [Semantic Retrieval service](https://ai.google.dev/gemini-api/docs/semantic_retrieval) in the Gemini API. You can implement question-answering on your own documents in a single request, or host a database for even faster responses."
   ]
  }
 ],
 "metadata": {
  "colab": {
   "name": "day-2-document-q-a-with-rag.ipynb",
   "toc_visible": true
  },
  "kaggle": {
   "accelerator": "none",
   "dataSources": [],
   "dockerImageVersionId": 30786,
   "isGpuEnabled": false,
   "isInternetEnabled": true,
   "language": "python",
   "sourceType": "notebook"
  },
  "kernelspec": {
   "display_name": "Python 3",
   "language": "python",
   "name": "python3"
  },
  "language_info": {
   "codemirror_mode": {
    "name": "ipython",
    "version": 3
   },
   "file_extension": ".py",
   "mimetype": "text/x-python",
   "name": "python",
   "nbconvert_exporter": "python",
   "pygments_lexer": "ipython3",
   "version": "3.10.14"
  },
  "papermill": {
   "default_parameters": {},
   "duration": 61.020976,
   "end_time": "2024-11-23T09:39:08.445879",
   "environment_variables": {},
   "exception": null,
   "input_path": "__notebook__.ipynb",
   "output_path": "__notebook__.ipynb",
   "parameters": {},
   "start_time": "2024-11-23T09:38:07.424903",
   "version": "2.6.0"
  }
 },
 "nbformat": 4,
 "nbformat_minor": 5
}
